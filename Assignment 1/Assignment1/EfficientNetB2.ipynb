{
 "cells": [
  {
   "cell_type": "markdown",
   "id": "7aa8366c",
   "metadata": {},
   "source": [
    "## Test accuracy on 20 CIFAR-100 classes using EfficieentNetB0"
   ]
  },
  {
   "cell_type": "markdown",
   "id": "1a4f0455",
   "metadata": {},
   "source": [
    "### Import all the necessary libraries"
   ]
  },
  {
   "cell_type": "code",
   "execution_count": 1,
   "id": "e174d5a8",
   "metadata": {},
   "outputs": [
    {
     "name": "stderr",
     "output_type": "stream",
     "text": [
      "2025-05-25 02:30:30.564733: I tensorflow/tsl/cuda/cudart_stub.cc:28] Could not find cuda drivers on your machine, GPU will not be used.\n",
      "2025-05-25 02:30:30.930213: I tensorflow/tsl/cuda/cudart_stub.cc:28] Could not find cuda drivers on your machine, GPU will not be used.\n",
      "2025-05-25 02:30:30.932066: I tensorflow/core/platform/cpu_feature_guard.cc:182] This TensorFlow binary is optimized to use available CPU instructions in performance-critical operations.\n",
      "To enable the following instructions: AVX2 FMA, in other operations, rebuild TensorFlow with the appropriate compiler flags.\n",
      "2025-05-25 02:30:32.533514: W tensorflow/compiler/tf2tensorrt/utils/py_utils.cc:38] TF-TRT Warning: Could not find TensorRT\n"
     ]
    }
   ],
   "source": [
    "import tensorflow as tf\n",
    "from tensorflow.keras.applications import EfficientNetB2\n",
    "from tensorflow.keras.applications.efficientnet import preprocess_input\n",
    "from tensorflow.keras import layers, models\n",
    "import numpy as np\n",
    "from tensorflow.keras.datasets import cifar100"
   ]
  },
  {
   "cell_type": "markdown",
   "id": "66aad24d",
   "metadata": {},
   "source": [
    "###  Load CIFAR-100 fine labels (100-class)"
   ]
  },
  {
   "cell_type": "code",
   "execution_count": 2,
   "id": "e9ecffbc",
   "metadata": {},
   "outputs": [],
   "source": [
    "(x_train, y_train), (x_test, y_test) = cifar100.load_data(label_mode='fine')"
   ]
  },
  {
   "cell_type": "markdown",
   "id": "3a109bab",
   "metadata": {},
   "source": [
    "### Choose 20 classes"
   ]
  },
  {
   "cell_type": "code",
   "execution_count": 3,
   "id": "fa4d7eaa",
   "metadata": {},
   "outputs": [],
   "source": [
    "selected_classes = list(range(20))\n",
    "train_mask = np.isin(y_train, selected_classes).flatten()\n",
    "test_mask = np.isin(y_test, selected_classes).flatten()\n",
    "\n",
    "x_train_20 = x_train[train_mask]\n",
    "y_train_20 = y_train[train_mask]\n",
    "x_test_20 = x_test[test_mask]\n",
    "y_test_20 = y_test[test_mask]"
   ]
  },
  {
   "cell_type": "markdown",
   "id": "bf9faf3a",
   "metadata": {},
   "source": [
    "### Map label to 0 - 19"
   ]
  },
  {
   "cell_type": "code",
   "execution_count": 4,
   "id": "dcc25aa1",
   "metadata": {},
   "outputs": [],
   "source": [
    "label_map = {cls: i for i, cls in enumerate(selected_classes)}\n",
    "y_train_20 = np.array([label_map[y[0]] for y in y_train_20])\n",
    "y_test_20 = np.array([label_map[y[0]] for y in y_test_20])"
   ]
  },
  {
   "cell_type": "markdown",
   "id": "434b8bdc",
   "metadata": {},
   "source": [
    "### Resize to 128x128"
   ]
  },
  {
   "cell_type": "code",
   "execution_count": 5,
   "id": "938dce50",
   "metadata": {},
   "outputs": [
    {
     "name": "stderr",
     "output_type": "stream",
     "text": [
      "2025-05-25 02:30:35.133101: I tensorflow/compiler/xla/stream_executor/cuda/cuda_gpu_executor.cc:995] successful NUMA node read from SysFS had negative value (-1), but there must be at least one NUMA node, so returning NUMA node zero. See more at https://github.com/torvalds/linux/blob/v6.0/Documentation/ABI/testing/sysfs-bus-pci#L344-L355\n",
      "2025-05-25 02:30:35.134774: W tensorflow/core/common_runtime/gpu/gpu_device.cc:1960] Cannot dlopen some GPU libraries. Please make sure the missing libraries mentioned above are installed properly if you would like to use GPU. Follow the guide at https://www.tensorflow.org/install/gpu for how to download and setup the required libraries for your platform.\n",
      "Skipping registering GPU devices...\n",
      "2025-05-25 02:30:35.155922: W tensorflow/tsl/framework/cpu_allocator_impl.cc:83] Allocation of 1966080000 exceeds 10% of free system memory.\n",
      "2025-05-25 02:30:41.170621: W tensorflow/tsl/framework/cpu_allocator_impl.cc:83] Allocation of 393216000 exceeds 10% of free system memory.\n"
     ]
    }
   ],
   "source": [
    "x_train_20 = tf.image.resize(x_train_20, (128, 128)).numpy()\n",
    "x_test_20 = tf.image.resize(x_test_20, (128, 128)).numpy()"
   ]
  },
  {
   "cell_type": "markdown",
   "id": "bfe12186",
   "metadata": {},
   "source": [
    "### Preprocess"
   ]
  },
  {
   "cell_type": "code",
   "execution_count": 6,
   "id": "58df0e69",
   "metadata": {},
   "outputs": [],
   "source": [
    "x_train_20 = preprocess_input(x_train_20)\n",
    "x_test_20 = preprocess_input(x_test_20)"
   ]
  },
  {
   "cell_type": "markdown",
   "id": "6f9f5d12",
   "metadata": {},
   "source": [
    "### Converts Label"
   ]
  },
  {
   "cell_type": "code",
   "execution_count": 7,
   "id": "1465eea9",
   "metadata": {},
   "outputs": [],
   "source": [
    "y_train_20_cat = tf.keras.utils.to_categorical(y_train_20, 20)\n",
    "y_test_20_cat = tf.keras.utils.to_categorical(y_test_20, 20)"
   ]
  },
  {
   "cell_type": "markdown",
   "id": "bda5d1f8",
   "metadata": {},
   "source": [
    "### Load EfficieentNetB0 base model"
   ]
  },
  {
   "cell_type": "code",
   "execution_count": 8,
   "id": "1f774423",
   "metadata": {},
   "outputs": [
    {
     "name": "stdout",
     "output_type": "stream",
     "text": [
      "Downloading data from https://storage.googleapis.com/keras-applications/efficientnetb2_notop.h5\n",
      "31790344/31790344 [==============================] - 9s 0us/step\n",
      "Epoch 1/5\n"
     ]
    },
    {
     "name": "stderr",
     "output_type": "stream",
     "text": [
      "2025-05-25 02:30:56.646994: W tensorflow/tsl/framework/cpu_allocator_impl.cc:83] Allocation of 1769472000 exceeds 10% of free system memory.\n"
     ]
    },
    {
     "name": "stdout",
     "output_type": "stream",
     "text": [
      "141/141 [==============================] - ETA: 0s - loss: 0.9051 - accuracy: 0.7427"
     ]
    },
    {
     "name": "stderr",
     "output_type": "stream",
     "text": [
      "2025-05-25 02:32:25.849563: W tensorflow/tsl/framework/cpu_allocator_impl.cc:83] Allocation of 196608000 exceeds 10% of free system memory.\n"
     ]
    },
    {
     "name": "stdout",
     "output_type": "stream",
     "text": [
      "141/141 [==============================] - 96s 635ms/step - loss: 0.9051 - accuracy: 0.7427 - val_loss: 0.4995 - val_accuracy: 0.8440\n",
      "Epoch 2/5\n",
      "141/141 [==============================] - 89s 635ms/step - loss: 0.4476 - accuracy: 0.8590 - val_loss: 0.4639 - val_accuracy: 0.8560\n",
      "Epoch 3/5\n",
      "141/141 [==============================] - 88s 628ms/step - loss: 0.3450 - accuracy: 0.8879 - val_loss: 0.4627 - val_accuracy: 0.8510\n",
      "Epoch 4/5\n",
      "141/141 [==============================] - 88s 628ms/step - loss: 0.2818 - accuracy: 0.9072 - val_loss: 0.4563 - val_accuracy: 0.8630\n",
      "Epoch 5/5\n",
      "141/141 [==============================] - 89s 633ms/step - loss: 0.2260 - accuracy: 0.9284 - val_loss: 0.4609 - val_accuracy: 0.8540\n"
     ]
    },
    {
     "name": "stderr",
     "output_type": "stream",
     "text": [
      "2025-05-25 02:38:31.810281: W tensorflow/tsl/framework/cpu_allocator_impl.cc:83] Allocation of 393216000 exceeds 10% of free system memory.\n"
     ]
    },
    {
     "name": "stdout",
     "output_type": "stream",
     "text": [
      "63/63 [==============================] - 16s 256ms/step - loss: 0.4124 - accuracy: 0.8650\n",
      "Test accuracy on 20 CIFAR-100 classes using EfficientNetB2: 0.8650000095367432\n"
     ]
    }
   ],
   "source": [
    "base_model = EfficientNetB2(weights='imagenet', include_top=False, input_shape=(128, 128, 3))\n",
    "base_model.trainable = False  # freeze base\n",
    "\n",
    "# 8. Build model\n",
    "model = models.Sequential([\n",
    "    base_model,\n",
    "    layers.GlobalAveragePooling2D(),\n",
    "    layers.Dense(256, activation='relu'),\n",
    "    layers.Dropout(0.4),\n",
    "    layers.Dense(20, activation='softmax')\n",
    "])\n",
    "\n",
    "# 9. Compile\n",
    "model.compile(optimizer='adam', loss='categorical_crossentropy', metrics=['accuracy'])\n",
    "\n",
    "# 10. Train\n",
    "model.fit(x_train_20, y_train_20_cat, epochs=5, batch_size=64, validation_split=0.1)\n",
    "\n",
    "# 11. Evaluate\n",
    "loss, acc = model.evaluate(x_test_20, y_test_20_cat)\n",
    "print(\"Test accuracy on 20 CIFAR-100 classes using EfficientNetB2:\", acc)"
   ]
  }
 ],
 "metadata": {
  "kernelspec": {
   "display_name": "base",
   "language": "python",
   "name": "python3"
  },
  "language_info": {
   "codemirror_mode": {
    "name": "ipython",
    "version": 3
   },
   "file_extension": ".py",
   "mimetype": "text/x-python",
   "name": "python",
   "nbconvert_exporter": "python",
   "pygments_lexer": "ipython3",
   "version": "3.10.16"
  },
  "widgets": {
   "application/vnd.jupyter.widget-state+json": {
    "state": {},
    "version_major": 2,
    "version_minor": 0
   }
  }
 },
 "nbformat": 4,
 "nbformat_minor": 5
}
