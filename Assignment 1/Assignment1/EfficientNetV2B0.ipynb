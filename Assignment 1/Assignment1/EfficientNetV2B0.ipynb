{
 "cells": [
  {
   "cell_type": "markdown",
   "id": "7aa8366c",
   "metadata": {},
   "source": [
    "## Test accuracy on 20 CIFAR-100 classes using EfficieentNetB0"
   ]
  },
  {
   "cell_type": "markdown",
   "id": "1a4f0455",
   "metadata": {},
   "source": [
    "### Import all the necessary libraries"
   ]
  },
  {
   "cell_type": "code",
   "execution_count": 9,
   "id": "e174d5a8",
   "metadata": {},
   "outputs": [],
   "source": [
    "import tensorflow as tf\n",
    "from tensorflow.keras.applications import EfficientNetV2B0\n",
    "from tensorflow.keras.applications.efficientnet_v2 import preprocess_input\n",
    "from tensorflow.keras import layers, models\n",
    "from tensorflow.keras.datasets import cifar100\n",
    "import numpy as np"
   ]
  },
  {
   "cell_type": "markdown",
   "id": "66aad24d",
   "metadata": {},
   "source": [
    "###  Load CIFAR-100 fine labels (100-class)"
   ]
  },
  {
   "cell_type": "code",
   "execution_count": 10,
   "id": "e9ecffbc",
   "metadata": {},
   "outputs": [],
   "source": [
    "(x_train, y_train), (x_test, y_test) = cifar100.load_data(label_mode='fine')"
   ]
  },
  {
   "cell_type": "markdown",
   "id": "3a109bab",
   "metadata": {},
   "source": [
    "### Choose 20 classes"
   ]
  },
  {
   "cell_type": "code",
   "execution_count": 11,
   "id": "fa4d7eaa",
   "metadata": {},
   "outputs": [],
   "source": [
    "selected_classes = list(range(20))\n",
    "train_mask = np.isin(y_train, selected_classes).flatten()\n",
    "test_mask = np.isin(y_test, selected_classes).flatten()\n",
    "\n",
    "x_train_20 = x_train[train_mask]\n",
    "y_train_20 = y_train[train_mask]\n",
    "x_test_20 = x_test[test_mask]\n",
    "y_test_20 = y_test[test_mask]"
   ]
  },
  {
   "cell_type": "markdown",
   "id": "bf9faf3a",
   "metadata": {},
   "source": [
    "### Map label to 0 - 19"
   ]
  },
  {
   "cell_type": "code",
   "execution_count": 12,
   "id": "dcc25aa1",
   "metadata": {},
   "outputs": [],
   "source": [
    "label_map = {cls: i for i, cls in enumerate(selected_classes)}\n",
    "y_train_20 = np.array([label_map[y[0]] for y in y_train_20])\n",
    "y_test_20 = np.array([label_map[y[0]] for y in y_test_20])"
   ]
  },
  {
   "cell_type": "markdown",
   "id": "434b8bdc",
   "metadata": {},
   "source": [
    "### Resize to 128x128"
   ]
  },
  {
   "cell_type": "code",
   "execution_count": 13,
   "id": "938dce50",
   "metadata": {},
   "outputs": [
    {
     "name": "stderr",
     "output_type": "stream",
     "text": [
      "2025-05-24 22:17:01.482020: W tensorflow/tsl/framework/cpu_allocator_impl.cc:83] Allocation of 1966080000 exceeds 10% of free system memory.\n",
      "2025-05-24 22:17:08.800013: W tensorflow/tsl/framework/cpu_allocator_impl.cc:83] Allocation of 393216000 exceeds 10% of free system memory.\n"
     ]
    }
   ],
   "source": [
    "x_train_20 = tf.image.resize(x_train_20, (128, 128)).numpy()\n",
    "x_test_20 = tf.image.resize(x_test_20, (128, 128)).numpy()"
   ]
  },
  {
   "cell_type": "markdown",
   "id": "bfe12186",
   "metadata": {},
   "source": [
    "### Preprocess"
   ]
  },
  {
   "cell_type": "code",
   "execution_count": 14,
   "id": "58df0e69",
   "metadata": {},
   "outputs": [],
   "source": [
    "x_train_20 = preprocess_input(x_train_20)\n",
    "x_test_20 = preprocess_input(x_test_20)"
   ]
  },
  {
   "cell_type": "markdown",
   "id": "6f9f5d12",
   "metadata": {},
   "source": [
    "### Converts Label"
   ]
  },
  {
   "cell_type": "code",
   "execution_count": 15,
   "id": "1465eea9",
   "metadata": {},
   "outputs": [],
   "source": [
    "y_train_20_cat = tf.keras.utils.to_categorical(y_train_20, 20)\n",
    "y_test_20_cat = tf.keras.utils.to_categorical(y_test_20, 20)"
   ]
  },
  {
   "cell_type": "markdown",
   "id": "bda5d1f8",
   "metadata": {},
   "source": [
    "### Load EfficieentNetB0 base model"
   ]
  },
  {
   "cell_type": "code",
   "execution_count": null,
   "id": "1f774423",
   "metadata": {},
   "outputs": [
    {
     "name": "stdout",
     "output_type": "stream",
     "text": [
      "Epoch 1/10\n",
      "141/141 [==============================] - 47s 295ms/step - loss: 0.8584 - accuracy: 0.7547 - val_loss: 0.4874 - val_accuracy: 0.8440\n",
      "Epoch 2/10\n",
      "141/141 [==============================] - 40s 286ms/step - loss: 0.4074 - accuracy: 0.8676 - val_loss: 0.4494 - val_accuracy: 0.8590\n",
      "Epoch 3/10\n",
      "141/141 [==============================] - 40s 287ms/step - loss: 0.3188 - accuracy: 0.8962 - val_loss: 0.4441 - val_accuracy: 0.8540\n",
      "Epoch 4/10\n",
      "141/141 [==============================] - 40s 285ms/step - loss: 0.2682 - accuracy: 0.9076 - val_loss: 0.4223 - val_accuracy: 0.8650\n",
      "Epoch 5/10\n",
      "141/141 [==============================] - 40s 285ms/step - loss: 0.2198 - accuracy: 0.9287 - val_loss: 0.4467 - val_accuracy: 0.8620\n",
      "Epoch 6/10\n",
      "141/141 [==============================] - 40s 284ms/step - loss: 0.1871 - accuracy: 0.9371 - val_loss: 0.4311 - val_accuracy: 0.8640\n",
      "Epoch 7/10\n",
      "141/141 [==============================] - 40s 286ms/step - loss: 0.1615 - accuracy: 0.9466 - val_loss: 0.4366 - val_accuracy: 0.8760\n",
      "Epoch 8/10\n",
      "141/141 [==============================] - 40s 287ms/step - loss: 0.1376 - accuracy: 0.9549 - val_loss: 0.4389 - val_accuracy: 0.8690\n",
      "Epoch 9/10\n",
      "141/141 [==============================] - 40s 287ms/step - loss: 0.1230 - accuracy: 0.9608 - val_loss: 0.4428 - val_accuracy: 0.8710\n",
      "Epoch 10/10\n",
      "141/141 [==============================] - 40s 286ms/step - loss: 0.1178 - accuracy: 0.9620 - val_loss: 0.4236 - val_accuracy: 0.8680\n",
      "63/63 [==============================] - 7s 118ms/step - loss: 0.3597 - accuracy: 0.8905\n",
      "Test accuracy on 20 CIFAR-100 classes using EfficientNetV2B0: 0.890500009059906\n"
     ]
    }
   ],
   "source": [
    "base_model = EfficientNetV2B0(weights='imagenet', include_top=False, input_shape=(128, 128, 3))\n",
    "base_model.trainable = False  # freeze base model\n",
    "\n",
    "# 8. Build the model\n",
    "model = models.Sequential([\n",
    "    base_model,\n",
    "    layers.GlobalAveragePooling2D(),\n",
    "    layers.Dense(256, activation='relu'),\n",
    "    layers.Dropout(0.4),\n",
    "    layers.Dense(20, activation='softmax')\n",
    "])\n",
    "\n",
    "# 9. Compile\n",
    "model.compile(optimizer='adam', loss='categorical_crossentropy', metrics=['accuracy'])\n",
    "\n",
    "# 10. Train\n",
    "model.fit(x_train_20, y_train_20_cat, epochs=5, batch_size=64, validation_split=0.1)\n",
    "\n",
    "# 11. Evaluate\n",
    "loss, acc = model.evaluate(x_test_20, y_test_20_cat)\n",
    "print(\"Test accuracy on 20 CIFAR-100 classes using EfficientNetV2B0:\", acc)"
   ]
  }
 ],
 "metadata": {
  "kernelspec": {
   "display_name": "base",
   "language": "python",
   "name": "python3"
  },
  "language_info": {
   "codemirror_mode": {
    "name": "ipython",
    "version": 3
   },
   "file_extension": ".py",
   "mimetype": "text/x-python",
   "name": "python",
   "nbconvert_exporter": "python",
   "pygments_lexer": "ipython3",
   "version": "3.10.16"
  },
  "widgets": {
   "application/vnd.jupyter.widget-state+json": {
    "state": {},
    "version_major": 2,
    "version_minor": 0
   }
  }
 },
 "nbformat": 4,
 "nbformat_minor": 5
}
