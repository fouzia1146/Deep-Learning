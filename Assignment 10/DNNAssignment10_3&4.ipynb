{
  "nbformat": 4,
  "nbformat_minor": 0,
  "metadata": {
    "colab": {
      "provenance": [],
      "gpuType": "T4"
    },
    "kernelspec": {
      "name": "python3",
      "display_name": "Python 3"
    },
    "language_info": {
      "name": "python"
    },
    "accelerator": "GPU"
  },
  "cells": [
    {
      "cell_type": "code",
      "execution_count": null,
      "metadata": {
        "id": "ef6Sx0Y_wede"
      },
      "outputs": [],
      "source": [
        "import torch\n",
        "import torch.nn as nn\n",
        "import torch.nn.functional as F\n",
        "import torchvision\n",
        "import torchvision.transforms as transforms\n",
        "import matplotlib.pyplot as plt\n",
        "import numpy as np"
      ]
    },
    {
      "cell_type": "code",
      "source": [
        "device = torch.device(\"cuda\" if torch.cuda.is_available() else \"cpu\")\n",
        "\n",
        "LATENT_DIM = 20\n",
        "BATCH_SIZE = 128\n",
        "EPOCHS = 15\n",
        "LR = 1e-3"
      ],
      "metadata": {
        "id": "J6dotTihw6Zi"
      },
      "execution_count": null,
      "outputs": []
    },
    {
      "cell_type": "code",
      "source": [
        "\n",
        "transform = transforms.ToTensor()\n",
        "\n",
        "train_dataset = torchvision.datasets.MNIST(root='./data', train=True, transform=transform, download=True)\n",
        "train_loader = torch.utils.data.DataLoader(train_dataset, batch_size=BATCH_SIZE, shuffle=True)\n",
        "\n",
        "test_dataset = torchvision.datasets.MNIST(root='./data', train=False, transform=transform)\n",
        "test_loader = torch.utils.data.DataLoader(test_dataset, batch_size=BATCH_SIZE, shuffle=False)"
      ],
      "metadata": {
        "colab": {
          "base_uri": "https://localhost:8080/"
        },
        "id": "GD6xAWuEw7Ft",
        "outputId": "f8501b18-f8bc-4655-c76b-0bb5ec596b4b"
      },
      "execution_count": null,
      "outputs": [
        {
          "output_type": "stream",
          "name": "stderr",
          "text": [
            "100%|██████████| 9.91M/9.91M [00:00<00:00, 16.1MB/s]\n",
            "100%|██████████| 28.9k/28.9k [00:00<00:00, 479kB/s]\n",
            "100%|██████████| 1.65M/1.65M [00:00<00:00, 3.84MB/s]\n",
            "100%|██████████| 4.54k/4.54k [00:00<00:00, 7.88MB/s]\n"
          ]
        }
      ]
    },
    {
      "cell_type": "code",
      "source": [
        "class VAE(nn.Module):\n",
        "    def __init__(self):\n",
        "        super(VAE, self).__init__()\n",
        "        self.encoder = nn.Sequential(\n",
        "            nn.Flatten(),\n",
        "            nn.Linear(28*28, 400),\n",
        "            nn.ReLU()\n",
        "        )\n",
        "        self.fc_mu = nn.Linear(400, LATENT_DIM)\n",
        "        self.fc_logvar = nn.Linear(400, LATENT_DIM)\n",
        "\n",
        "        self.decoder = nn.Sequential(\n",
        "            nn.Linear(LATENT_DIM, 400),\n",
        "            nn.ReLU(),\n",
        "            nn.Linear(400, 28*28),\n",
        "            nn.Sigmoid()\n",
        "        )\n",
        "\n",
        "    def reparameterize(self, mu, logvar):\n",
        "        std = torch.exp(0.5 * logvar)\n",
        "        eps = torch.randn_like(std)\n",
        "        return mu + eps * std\n",
        "\n",
        "    def forward(self, x):\n",
        "        h = self.encoder(x)\n",
        "        mu = self.fc_mu(h)\n",
        "        logvar = self.fc_logvar(h)\n",
        "        z = self.reparameterize(mu, logvar)\n",
        "        x_hat = self.decoder(z)\n",
        "        return x_hat, mu, logvar"
      ],
      "metadata": {
        "id": "EOdI9kYZw_tl"
      },
      "execution_count": null,
      "outputs": []
    },
    {
      "cell_type": "code",
      "source": [
        "\n",
        "model = VAE().to(device)\n",
        "optimizer = torch.optim.Adam(model.parameters(), lr=LR)\n",
        "def loss_function(recon_x, x, mu, logvar):\n",
        "    BCE = F.binary_cross_entropy(recon_x, x.view(-1, 28*28), reduction='sum')\n",
        "    KLD = -0.5 * torch.sum(1 + logvar - mu.pow(2) - logvar.exp())\n",
        "    return BCE + KLD"
      ],
      "metadata": {
        "id": "rnslTUroxI4p"
      },
      "execution_count": null,
      "outputs": []
    },
    {
      "cell_type": "code",
      "source": [
        "model.train()\n",
        "for epoch in range(EPOCHS):\n",
        "    total_loss = 0\n",
        "    for images, _ in train_loader:\n",
        "        images = images.to(device)\n",
        "        recon_x, mu, logvar = model(images)\n",
        "        loss = loss_function(recon_x, images, mu, logvar)\n",
        "\n",
        "        optimizer.zero_grad()\n",
        "        loss.backward()\n",
        "        optimizer.step()\n",
        "\n",
        "        total_loss += loss.item()\n",
        "\n",
        "    print(f\"Epoch [{epoch+1}/{EPOCHS}], Loss: {total_loss / len(train_loader):.2f}\")"
      ],
      "metadata": {
        "colab": {
          "base_uri": "https://localhost:8080/"
        },
        "id": "gxzce0KzxPpg",
        "outputId": "93058806-907d-4b95-cd87-91817b7ada27"
      },
      "execution_count": null,
      "outputs": [
        {
          "output_type": "stream",
          "name": "stdout",
          "text": [
            "Epoch [1/15], Loss: 21065.82\n",
            "Epoch [2/15], Loss: 15516.63\n",
            "Epoch [3/15], Loss: 14606.46\n",
            "Epoch [4/15], Loss: 14222.98\n",
            "Epoch [5/15], Loss: 14002.84\n",
            "Epoch [6/15], Loss: 13851.15\n",
            "Epoch [7/15], Loss: 13739.47\n",
            "Epoch [8/15], Loss: 13662.27\n",
            "Epoch [9/15], Loss: 13593.51\n",
            "Epoch [10/15], Loss: 13543.89\n",
            "Epoch [11/15], Loss: 13497.41\n",
            "Epoch [12/15], Loss: 13463.94\n",
            "Epoch [13/15], Loss: 13427.08\n",
            "Epoch [14/15], Loss: 13400.17\n",
            "Epoch [15/15], Loss: 13368.89\n"
          ]
        }
      ]
    },
    {
      "cell_type": "code",
      "source": [
        "model.eval()\n",
        "with torch.no_grad():\n",
        "    test_imgs, _ = next(iter(test_loader))\n",
        "    test_imgs = test_imgs[:10].to(device)\n",
        "    recon_imgs, _, _ = model(test_imgs)\n",
        "\n",
        "# Flatten for metric evaluation\n",
        "original = test_imgs.cpu().numpy().reshape(10, -1)\n",
        "reconstructed = recon_imgs.cpu().numpy().reshape(10, -1)\n",
        "\n",
        "from sklearn.metrics import mean_squared_error, mean_absolute_error, r2_score\n",
        "\n",
        "mse = mean_squared_error(original, reconstructed)\n",
        "mae = mean_absolute_error(original, reconstructed)\n",
        "r2 = r2_score(original, reconstructed)\n",
        "\n",
        "print(f\"\\n📊 Evaluation Metrics on MNIST:\")\n",
        "print(f\"🔸 Mean Squared Error (MSE): {mse:.4f}\")\n",
        "print(f\"🔸 Mean Absolute Error (MAE): {mae:.4f}\")\n",
        "print(f\"🔸 R2 Score: {r2:.4f}\")"
      ],
      "metadata": {
        "colab": {
          "base_uri": "https://localhost:8080/"
        },
        "id": "Ob1mrvm8xW8_",
        "outputId": "d7ecd61f-6569-4232-ff46-5acc9c0bc965"
      },
      "execution_count": null,
      "outputs": [
        {
          "output_type": "stream",
          "name": "stdout",
          "text": [
            "\n",
            "📊 Evaluation Metrics on MNIST:\n",
            "🔸 Mean Squared Error (MSE): 0.0116\n",
            "🔸 Mean Absolute Error (MAE): 0.0364\n",
            "🔸 R2 Score: -0.0922\n"
          ]
        }
      ]
    },
    {
      "cell_type": "code",
      "source": [
        "fig, axes = plt.subplots(2, 10, figsize=(15, 4))\n",
        "for i in range(10):\n",
        "    axes[0, i].imshow(test_imgs[i].squeeze().cpu().numpy(), cmap='gray')\n",
        "    axes[0, i].set_title(\"Original\")\n",
        "    axes[0, i].axis('off')\n",
        "\n",
        "    axes[1, i].imshow(recon_imgs[i].reshape(28, 28).squeeze().cpu().numpy(), cmap='gray')\n",
        "    axes[1, i].set_title(\"Reconstruction\")\n",
        "    axes[1, i].axis('off')\n",
        "\n",
        "plt.suptitle(\"MNIST - VAE Reconstruction\")\n",
        "plt.tight_layout()\n",
        "plt.show()"
      ],
      "metadata": {
        "colab": {
          "base_uri": "https://localhost:8080/",
          "height": 376
        },
        "id": "W0WnnUU7xcq3",
        "outputId": "d7bd8483-b395-4abb-c70f-da53c87bc913"
      },
      "execution_count": null,
      "outputs": [
        {
          "output_type": "display_data",
          "data": {
            "text/plain": [
              "<Figure size 1500x400 with 20 Axes>"
            ],
            "image/png": "[encoded data removed]"
          },
          "metadata": {}
        }
      ]
    },
    {
      "cell_type": "code",
      "source": [
        "model.eval()  # Set to evaluation mode"
      ],
      "metadata": {
        "colab": {
          "base_uri": "https://localhost:8080/"
        },
        "id": "b2OGhIXSzcEK",
        "outputId": "6661ecd4-4c14-4066-fe37-b8e2eee1dc91"
      },
      "execution_count": null,
      "outputs": [
        {
          "output_type": "execute_result",
          "data": {
            "text/plain": [
              "VAE(\n",
              "  (encoder): Sequential(\n",
              "    (0): Flatten(start_dim=1, end_dim=-1)\n",
              "    (1): Linear(in_features=784, out_features=400, bias=True)\n",
              "    (2): ReLU()\n",
              "  )\n",
              "  (fc_mu): Linear(in_features=400, out_features=20, bias=True)\n",
              "  (fc_logvar): Linear(in_features=400, out_features=20, bias=True)\n",
              "  (decoder): Sequential(\n",
              "    (0): Linear(in_features=20, out_features=400, bias=True)\n",
              "    (1): ReLU()\n",
              "    (2): Linear(in_features=400, out_features=784, bias=True)\n",
              "    (3): Sigmoid()\n",
              "  )\n",
              ")"
            ]
          },
          "metadata": {},
          "execution_count": 9
        }
      ]
    },
    {
      "cell_type": "code",
      "source": [
        "latent_vectors = torch.randn(5, LATENT_DIM).to(device) + 5"
      ],
      "metadata": {
        "id": "FMdoK0uczdhq"
      },
      "execution_count": null,
      "outputs": []
    },
    {
      "cell_type": "code",
      "source": [
        "with torch.no_grad():\n",
        "    generated_imgs = model.decoder(latent_vectors)"
      ],
      "metadata": {
        "id": "JamVE4ovzqrF"
      },
      "execution_count": null,
      "outputs": []
    },
    {
      "cell_type": "code",
      "source": [
        "import matplotlib.pyplot as plt\n",
        "\n",
        "plt.figure(figsize=(12, 3))\n",
        "for i in range(5):\n",
        "    plt.subplot(1, 5, i+1)\n",
        "    plt.imshow(generated_imgs[i].reshape(28, 28).cpu().numpy(), cmap='gray')\n",
        "    plt.title(f\"Sample {i+1}\")\n",
        "    plt.axis('off')\n",
        "\n",
        "plt.suptitle(\"Generated Images from Noise ~ N(5, 1)\")\n",
        "plt.tight_layout()\n",
        "plt.show()"
      ],
      "metadata": {
        "colab": {
          "base_uri": "https://localhost:8080/",
          "height": 308
        },
        "id": "Tz2EhlPqzrzf",
        "outputId": "1efd3e61-cba8-44e8-f333-00f2686dffab"
      },
      "execution_count": null,
      "outputs": [
        {
          "output_type": "display_data",
          "data": {
            "text/plain": [
              "<Figure size 1200x300 with 5 Axes>"
            ],
            "image/png": "[encoded data removed]"
          },
          "metadata": {}
        }
      ]
    }
  ]
}